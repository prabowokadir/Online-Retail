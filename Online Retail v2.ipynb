{
 "cells": [
  {
   "cell_type": "markdown",
   "metadata": {},
   "source": [
    "## Data Preparation"
   ]
  },
  {
   "cell_type": "code",
   "execution_count": 1,
   "metadata": {},
   "outputs": [],
   "source": [
    "import pandas as pd\n",
    "import numpy as np\n",
    "import matplotlib.pyplot as plt\n",
    "import matplotlib.colors as mcolors\n",
    "import seaborn as sns\n",
    "sns.set()"
   ]
  },
  {
   "cell_type": "code",
   "execution_count": 2,
   "metadata": {},
   "outputs": [
    {
     "data": {
      "text/html": [
       "<div>\n",
       "<style scoped>\n",
       "    .dataframe tbody tr th:only-of-type {\n",
       "        vertical-align: middle;\n",
       "    }\n",
       "\n",
       "    .dataframe tbody tr th {\n",
       "        vertical-align: top;\n",
       "    }\n",
       "\n",
       "    .dataframe thead th {\n",
       "        text-align: right;\n",
       "    }\n",
       "</style>\n",
       "<table border=\"1\" class=\"dataframe\">\n",
       "  <thead>\n",
       "    <tr style=\"text-align: right;\">\n",
       "      <th></th>\n",
       "      <th>InvoiceNo</th>\n",
       "      <th>StockCode</th>\n",
       "      <th>Description</th>\n",
       "      <th>Quantity</th>\n",
       "      <th>InvoiceDate</th>\n",
       "      <th>UnitPrice</th>\n",
       "      <th>CustomerID</th>\n",
       "      <th>Country</th>\n",
       "    </tr>\n",
       "  </thead>\n",
       "  <tbody>\n",
       "    <tr>\n",
       "      <th>0</th>\n",
       "      <td>536365</td>\n",
       "      <td>85123A</td>\n",
       "      <td>WHITE HANGING HEART T-LIGHT HOLDER</td>\n",
       "      <td>6</td>\n",
       "      <td>12/1/2010 8:26</td>\n",
       "      <td>2.55</td>\n",
       "      <td>17850.0</td>\n",
       "      <td>United Kingdom</td>\n",
       "    </tr>\n",
       "    <tr>\n",
       "      <th>1</th>\n",
       "      <td>536365</td>\n",
       "      <td>71053</td>\n",
       "      <td>WHITE METAL LANTERN</td>\n",
       "      <td>6</td>\n",
       "      <td>12/1/2010 8:26</td>\n",
       "      <td>3.39</td>\n",
       "      <td>17850.0</td>\n",
       "      <td>United Kingdom</td>\n",
       "    </tr>\n",
       "    <tr>\n",
       "      <th>2</th>\n",
       "      <td>536365</td>\n",
       "      <td>84406B</td>\n",
       "      <td>CREAM CUPID HEARTS COAT HANGER</td>\n",
       "      <td>8</td>\n",
       "      <td>12/1/2010 8:26</td>\n",
       "      <td>2.75</td>\n",
       "      <td>17850.0</td>\n",
       "      <td>United Kingdom</td>\n",
       "    </tr>\n",
       "    <tr>\n",
       "      <th>3</th>\n",
       "      <td>536365</td>\n",
       "      <td>84029G</td>\n",
       "      <td>KNITTED UNION FLAG HOT WATER BOTTLE</td>\n",
       "      <td>6</td>\n",
       "      <td>12/1/2010 8:26</td>\n",
       "      <td>3.39</td>\n",
       "      <td>17850.0</td>\n",
       "      <td>United Kingdom</td>\n",
       "    </tr>\n",
       "    <tr>\n",
       "      <th>4</th>\n",
       "      <td>536365</td>\n",
       "      <td>84029E</td>\n",
       "      <td>RED WOOLLY HOTTIE WHITE HEART.</td>\n",
       "      <td>6</td>\n",
       "      <td>12/1/2010 8:26</td>\n",
       "      <td>3.39</td>\n",
       "      <td>17850.0</td>\n",
       "      <td>United Kingdom</td>\n",
       "    </tr>\n",
       "  </tbody>\n",
       "</table>\n",
       "</div>"
      ],
      "text/plain": [
       "  InvoiceNo StockCode                          Description  Quantity  \\\n",
       "0    536365    85123A   WHITE HANGING HEART T-LIGHT HOLDER         6   \n",
       "1    536365     71053                  WHITE METAL LANTERN         6   \n",
       "2    536365    84406B       CREAM CUPID HEARTS COAT HANGER         8   \n",
       "3    536365    84029G  KNITTED UNION FLAG HOT WATER BOTTLE         6   \n",
       "4    536365    84029E       RED WOOLLY HOTTIE WHITE HEART.         6   \n",
       "\n",
       "      InvoiceDate  UnitPrice  CustomerID         Country  \n",
       "0  12/1/2010 8:26       2.55     17850.0  United Kingdom  \n",
       "1  12/1/2010 8:26       3.39     17850.0  United Kingdom  \n",
       "2  12/1/2010 8:26       2.75     17850.0  United Kingdom  \n",
       "3  12/1/2010 8:26       3.39     17850.0  United Kingdom  \n",
       "4  12/1/2010 8:26       3.39     17850.0  United Kingdom  "
      ]
     },
     "execution_count": 2,
     "metadata": {},
     "output_type": "execute_result"
    }
   ],
   "source": [
    "df = pd.read_csv('OnlineRetail.csv', encoding='latin-1')\n",
    "df.head()"
   ]
  },
  {
   "cell_type": "code",
   "execution_count": 3,
   "metadata": {},
   "outputs": [
    {
     "data": {
      "text/plain": [
       "(541909, 8)"
      ]
     },
     "execution_count": 3,
     "metadata": {},
     "output_type": "execute_result"
    }
   ],
   "source": [
    "df.shape"
   ]
  },
  {
   "cell_type": "code",
   "execution_count": 4,
   "metadata": {},
   "outputs": [
    {
     "name": "stdout",
     "output_type": "stream",
     "text": [
      "<class 'pandas.core.frame.DataFrame'>\n",
      "RangeIndex: 541909 entries, 0 to 541908\n",
      "Data columns (total 8 columns):\n",
      " #   Column       Non-Null Count   Dtype  \n",
      "---  ------       --------------   -----  \n",
      " 0   InvoiceNo    541909 non-null  object \n",
      " 1   StockCode    541909 non-null  object \n",
      " 2   Description  540455 non-null  object \n",
      " 3   Quantity     541909 non-null  int64  \n",
      " 4   InvoiceDate  541909 non-null  object \n",
      " 5   UnitPrice    541909 non-null  float64\n",
      " 6   CustomerID   406829 non-null  float64\n",
      " 7   Country      541909 non-null  object \n",
      "dtypes: float64(2), int64(1), object(5)\n",
      "memory usage: 33.1+ MB\n"
     ]
    }
   ],
   "source": [
    "df.info()"
   ]
  },
  {
   "cell_type": "markdown",
   "metadata": {},
   "source": [
    "## Data Cleansing"
   ]
  },
  {
   "cell_type": "code",
   "execution_count": 5,
   "metadata": {},
   "outputs": [
    {
     "data": {
      "text/html": [
       "<div>\n",
       "<style scoped>\n",
       "    .dataframe tbody tr th:only-of-type {\n",
       "        vertical-align: middle;\n",
       "    }\n",
       "\n",
       "    .dataframe tbody tr th {\n",
       "        vertical-align: top;\n",
       "    }\n",
       "\n",
       "    .dataframe thead th {\n",
       "        text-align: right;\n",
       "    }\n",
       "</style>\n",
       "<table border=\"1\" class=\"dataframe\">\n",
       "  <thead>\n",
       "    <tr style=\"text-align: right;\">\n",
       "      <th></th>\n",
       "      <th>count</th>\n",
       "      <th>percentage</th>\n",
       "    </tr>\n",
       "  </thead>\n",
       "  <tbody>\n",
       "    <tr>\n",
       "      <th>CustomerID</th>\n",
       "      <td>135080</td>\n",
       "      <td>0.249267</td>\n",
       "    </tr>\n",
       "    <tr>\n",
       "      <th>Description</th>\n",
       "      <td>1454</td>\n",
       "      <td>0.002683</td>\n",
       "    </tr>\n",
       "    <tr>\n",
       "      <th>Country</th>\n",
       "      <td>0</td>\n",
       "      <td>0.000000</td>\n",
       "    </tr>\n",
       "    <tr>\n",
       "      <th>UnitPrice</th>\n",
       "      <td>0</td>\n",
       "      <td>0.000000</td>\n",
       "    </tr>\n",
       "    <tr>\n",
       "      <th>InvoiceDate</th>\n",
       "      <td>0</td>\n",
       "      <td>0.000000</td>\n",
       "    </tr>\n",
       "    <tr>\n",
       "      <th>Quantity</th>\n",
       "      <td>0</td>\n",
       "      <td>0.000000</td>\n",
       "    </tr>\n",
       "    <tr>\n",
       "      <th>StockCode</th>\n",
       "      <td>0</td>\n",
       "      <td>0.000000</td>\n",
       "    </tr>\n",
       "    <tr>\n",
       "      <th>InvoiceNo</th>\n",
       "      <td>0</td>\n",
       "      <td>0.000000</td>\n",
       "    </tr>\n",
       "  </tbody>\n",
       "</table>\n",
       "</div>"
      ],
      "text/plain": [
       "              count  percentage\n",
       "CustomerID   135080    0.249267\n",
       "Description    1454    0.002683\n",
       "Country           0    0.000000\n",
       "UnitPrice         0    0.000000\n",
       "InvoiceDate       0    0.000000\n",
       "Quantity          0    0.000000\n",
       "StockCode         0    0.000000\n",
       "InvoiceNo         0    0.000000"
      ]
     },
     "execution_count": 5,
     "metadata": {},
     "output_type": "execute_result"
    }
   ],
   "source": [
    "total = df.isnull().sum().sort_values(ascending=False)\n",
    "percent = (df.isnull().sum()/df.isnull().count()).sort_values(ascending=False)\n",
    "missing_value = pd.concat([total, percent], axis=1).rename(columns={0:'count', 1:'percentage'})\n",
    "missing_value"
   ]
  },
  {
   "cell_type": "markdown",
   "metadata": {},
   "source": [
    "* `CustomerID` dan `Description` merupakan dua kolom yang memiliki _missing value_\n",
    "* Untuk dua kolom tersebut bisa kita _drop missing value by row_"
   ]
  },
  {
   "cell_type": "code",
   "execution_count": 6,
   "metadata": {},
   "outputs": [],
   "source": [
    "df.dropna(axis=0, inplace=True)"
   ]
  },
  {
   "cell_type": "markdown",
   "metadata": {},
   "source": [
    "* Pada info sebelumnya, kolom `InvoiceDate` dan `CustomerID` harus kita ubah tipe datanya\n",
    "* Adapun tipe data dari masing-masing kolom tersebut kita ubah menjadi `datetime64[ns]` dan `str`"
   ]
  },
  {
   "cell_type": "code",
   "execution_count": 7,
   "metadata": {},
   "outputs": [],
   "source": [
    "df['InvoiceDate'] = df['InvoiceDate'].astype('datetime64[ns]')\n",
    "df['CustomerID'] = df['CustomerID'].astype('int64')\n",
    "df['CustomerID'] = df['CustomerID'].astype('str')"
   ]
  },
  {
   "cell_type": "markdown",
   "metadata": {},
   "source": [
    "## Exploratory Data Analysis"
   ]
  },
  {
   "cell_type": "markdown",
   "metadata": {},
   "source": [
    "### Cohort Analysis"
   ]
  },
  {
   "cell_type": "code",
   "execution_count": 8,
   "metadata": {},
   "outputs": [
    {
     "data": {
      "text/html": [
       "<div>\n",
       "<style scoped>\n",
       "    .dataframe tbody tr th:only-of-type {\n",
       "        vertical-align: middle;\n",
       "    }\n",
       "\n",
       "    .dataframe tbody tr th {\n",
       "        vertical-align: top;\n",
       "    }\n",
       "\n",
       "    .dataframe thead th {\n",
       "        text-align: right;\n",
       "    }\n",
       "</style>\n",
       "<table border=\"1\" class=\"dataframe\">\n",
       "  <thead>\n",
       "    <tr style=\"text-align: right;\">\n",
       "      <th></th>\n",
       "      <th>count</th>\n",
       "      <th>mean</th>\n",
       "      <th>std</th>\n",
       "      <th>min</th>\n",
       "      <th>25%</th>\n",
       "      <th>50%</th>\n",
       "      <th>75%</th>\n",
       "      <th>max</th>\n",
       "    </tr>\n",
       "  </thead>\n",
       "  <tbody>\n",
       "    <tr>\n",
       "      <th>Quantity</th>\n",
       "      <td>406829.0</td>\n",
       "      <td>12.061303</td>\n",
       "      <td>248.693370</td>\n",
       "      <td>-80995.0</td>\n",
       "      <td>2.00</td>\n",
       "      <td>5.00</td>\n",
       "      <td>12.00</td>\n",
       "      <td>80995.0</td>\n",
       "    </tr>\n",
       "    <tr>\n",
       "      <th>UnitPrice</th>\n",
       "      <td>406829.0</td>\n",
       "      <td>3.460471</td>\n",
       "      <td>69.315162</td>\n",
       "      <td>0.0</td>\n",
       "      <td>1.25</td>\n",
       "      <td>1.95</td>\n",
       "      <td>3.75</td>\n",
       "      <td>38970.0</td>\n",
       "    </tr>\n",
       "  </tbody>\n",
       "</table>\n",
       "</div>"
      ],
      "text/plain": [
       "              count       mean         std      min   25%   50%    75%  \\\n",
       "Quantity   406829.0  12.061303  248.693370 -80995.0  2.00  5.00  12.00   \n",
       "UnitPrice  406829.0   3.460471   69.315162      0.0  1.25  1.95   3.75   \n",
       "\n",
       "               max  \n",
       "Quantity   80995.0  \n",
       "UnitPrice  38970.0  "
      ]
     },
     "execution_count": 8,
     "metadata": {},
     "output_type": "execute_result"
    }
   ],
   "source": [
    "df.describe().T"
   ]
  },
  {
   "cell_type": "code",
   "execution_count": 9,
   "metadata": {},
   "outputs": [
    {
     "data": {
      "text/plain": [
       "8905"
      ]
     },
     "execution_count": 9,
     "metadata": {},
     "output_type": "execute_result"
    }
   ],
   "source": [
    "len(df.loc[df['Quantity']<0])"
   ]
  },
  {
   "cell_type": "markdown",
   "metadata": {},
   "source": [
    "* Kolom `Quantity` memiliki sejumlah item yang bernilai negatif\n",
    "* Kita asumsikan masalah tersebut sebagai item yang dikembalikan/_return_\n",
    "* Terdapat ~9k pembelian item yang bernilai negatif\n",
    "* Baris dengan quantity item bernilai negatif kita hapus dari dataset\n",
    "* Selain itu, pada kolom `UnitPrice` harga minimum dari sebuah item adalah 0, kok bisa?"
   ]
  },
  {
   "cell_type": "markdown",
   "metadata": {},
   "source": [
    "* Kita coba hitung jumlah order atau pesanan dari masing-masing customer"
   ]
  },
  {
   "cell_type": "code",
   "execution_count": 10,
   "metadata": {},
   "outputs": [
    {
     "data": {
      "text/html": [
       "<div>\n",
       "<style scoped>\n",
       "    .dataframe tbody tr th:only-of-type {\n",
       "        vertical-align: middle;\n",
       "    }\n",
       "\n",
       "    .dataframe tbody tr th {\n",
       "        vertical-align: top;\n",
       "    }\n",
       "\n",
       "    .dataframe thead th {\n",
       "        text-align: right;\n",
       "    }\n",
       "</style>\n",
       "<table border=\"1\" class=\"dataframe\">\n",
       "  <thead>\n",
       "    <tr style=\"text-align: right;\">\n",
       "      <th></th>\n",
       "      <th>CustomerID</th>\n",
       "      <th>Total Order</th>\n",
       "    </tr>\n",
       "  </thead>\n",
       "  <tbody>\n",
       "    <tr>\n",
       "      <th>0</th>\n",
       "      <td>14911</td>\n",
       "      <td>248</td>\n",
       "    </tr>\n",
       "    <tr>\n",
       "      <th>1</th>\n",
       "      <td>12748</td>\n",
       "      <td>224</td>\n",
       "    </tr>\n",
       "    <tr>\n",
       "      <th>2</th>\n",
       "      <td>17841</td>\n",
       "      <td>169</td>\n",
       "    </tr>\n",
       "    <tr>\n",
       "      <th>3</th>\n",
       "      <td>14606</td>\n",
       "      <td>128</td>\n",
       "    </tr>\n",
       "    <tr>\n",
       "      <th>4</th>\n",
       "      <td>13089</td>\n",
       "      <td>118</td>\n",
       "    </tr>\n",
       "  </tbody>\n",
       "</table>\n",
       "</div>"
      ],
      "text/plain": [
       "  CustomerID  Total Order\n",
       "0      14911          248\n",
       "1      12748          224\n",
       "2      17841          169\n",
       "3      14606          128\n",
       "4      13089          118"
      ]
     },
     "execution_count": 10,
     "metadata": {},
     "output_type": "execute_result"
    }
   ],
   "source": [
    "mult_order = df.pivot_table(index='CustomerID', values='InvoiceNo', aggfunc=pd.Series.nunique).reset_index()\n",
    "mult_order = mult_order.rename(columns={'InvoiceNo':'Total Order'})\n",
    "mult_order = mult_order.sort_values(by='Total Order', ascending=False).reset_index(drop=True)\n",
    "mult_order.head()"
   ]
  },
  {
   "cell_type": "code",
   "execution_count": 11,
   "metadata": {},
   "outputs": [
    {
     "data": {
      "image/png": "[encoded data removed]",
      "text/plain": [
       "<Figure size 720x360 with 1 Axes>"
      ]
     },
     "metadata": {},
     "output_type": "display_data"
    }
   ],
   "source": [
    "fig, ax = plt.subplots(figsize=(10,5))\n",
    "\n",
    "sns.histplot(data=mult_order, x='Total Order', bins=100, kde=True, ax=ax)\n",
    "plt.title('Order Distribution per User on Online Retail', loc='left', fontsize=14)\n",
    "\n",
    "plt.show()"
   ]
  },
  {
   "cell_type": "markdown",
   "metadata": {},
   "source": [
    "* Distribusi di atas memperlihatkan data yang miring ke kanan\n",
    "* Selain itu juga bisa kita simpulkan bahwa terdapat sejumlah user dengan order yang lebih dari sekali\n",
    "* Hal ini bisa menjadi indikasi bahwa setidaknya terdapat beberapa retention"
   ]
  },
  {
   "cell_type": "code",
   "execution_count": 12,
   "metadata": {},
   "outputs": [
    {
     "name": "stdout",
     "output_type": "stream",
     "text": [
      "69.97% customer dengan jumlah order lebih dari sekali\n"
     ]
    }
   ],
   "source": [
    "condition = mult_order['Total Order'] > 1\n",
    "more_one = len(mult_order.loc[condition, 'CustomerID'])/mult_order.loc[:,'CustomerID'].nunique()\n",
    "print(f'{round(100*more_one,2)}% customer dengan jumlah order lebih dari sekali')"
   ]
  },
  {
   "cell_type": "markdown",
   "metadata": {},
   "source": [
    "* Asumsikan bahwa data tersebut merupakan data dari awal toko tersebut dibuka\n",
    "* Berdasarkan asumsi tersebut, maka min value dari `InvoiceDate` tiap customer merupakan tanggal pertama mereka bertransaksi di toko tersebut\n",
    "* Sehingga kita akan coba untuk melakukan cohort analysis dari pembelian tiap user pada periode tertentu"
   ]
  },
  {
   "cell_type": "code",
   "execution_count": 13,
   "metadata": {},
   "outputs": [
    {
     "data": {
      "text/html": [
       "<div>\n",
       "<style scoped>\n",
       "    .dataframe tbody tr th:only-of-type {\n",
       "        vertical-align: middle;\n",
       "    }\n",
       "\n",
       "    .dataframe tbody tr th {\n",
       "        vertical-align: top;\n",
       "    }\n",
       "\n",
       "    .dataframe thead th {\n",
       "        text-align: right;\n",
       "    }\n",
       "</style>\n",
       "<table border=\"1\" class=\"dataframe\">\n",
       "  <thead>\n",
       "    <tr style=\"text-align: right;\">\n",
       "      <th></th>\n",
       "      <th>CustomerID</th>\n",
       "      <th>InvoiceNo</th>\n",
       "      <th>InvoiceDate</th>\n",
       "    </tr>\n",
       "  </thead>\n",
       "  <tbody>\n",
       "    <tr>\n",
       "      <th>0</th>\n",
       "      <td>17850</td>\n",
       "      <td>536365</td>\n",
       "      <td>2010-12-01 08:26:00</td>\n",
       "    </tr>\n",
       "    <tr>\n",
       "      <th>1</th>\n",
       "      <td>17850</td>\n",
       "      <td>536366</td>\n",
       "      <td>2010-12-01 08:28:00</td>\n",
       "    </tr>\n",
       "    <tr>\n",
       "      <th>2</th>\n",
       "      <td>13047</td>\n",
       "      <td>536367</td>\n",
       "      <td>2010-12-01 08:34:00</td>\n",
       "    </tr>\n",
       "    <tr>\n",
       "      <th>3</th>\n",
       "      <td>13047</td>\n",
       "      <td>536368</td>\n",
       "      <td>2010-12-01 08:34:00</td>\n",
       "    </tr>\n",
       "    <tr>\n",
       "      <th>4</th>\n",
       "      <td>13047</td>\n",
       "      <td>536369</td>\n",
       "      <td>2010-12-01 08:35:00</td>\n",
       "    </tr>\n",
       "  </tbody>\n",
       "</table>\n",
       "</div>"
      ],
      "text/plain": [
       "  CustomerID InvoiceNo         InvoiceDate\n",
       "0      17850    536365 2010-12-01 08:26:00\n",
       "1      17850    536366 2010-12-01 08:28:00\n",
       "2      13047    536367 2010-12-01 08:34:00\n",
       "3      13047    536368 2010-12-01 08:34:00\n",
       "4      13047    536369 2010-12-01 08:35:00"
      ]
     },
     "execution_count": 13,
     "metadata": {},
     "output_type": "execute_result"
    }
   ],
   "source": [
    "new_df = df[['CustomerID', 'InvoiceNo', 'InvoiceDate']].drop_duplicates(ignore_index=True)\n",
    "new_df.head()"
   ]
  },
  {
   "cell_type": "code",
   "execution_count": 14,
   "metadata": {},
   "outputs": [],
   "source": [
    "new_df['order_month'] = new_df['InvoiceDate'].dt.to_period('M')\n",
    "\n",
    "# New column with min InvoiceDate per CustomerID\n",
    "new_df['cohort'] = new_df.groupby('CustomerID')['InvoiceDate'].transform('min').dt.to_period('M')"
   ]
  },
  {
   "cell_type": "code",
   "execution_count": 15,
   "metadata": {},
   "outputs": [
    {
     "data": {
      "text/html": [
       "<div>\n",
       "<style scoped>\n",
       "    .dataframe tbody tr th:only-of-type {\n",
       "        vertical-align: middle;\n",
       "    }\n",
       "\n",
       "    .dataframe tbody tr th {\n",
       "        vertical-align: top;\n",
       "    }\n",
       "\n",
       "    .dataframe thead th {\n",
       "        text-align: right;\n",
       "    }\n",
       "</style>\n",
       "<table border=\"1\" class=\"dataframe\">\n",
       "  <thead>\n",
       "    <tr style=\"text-align: right;\">\n",
       "      <th></th>\n",
       "      <th>cohort</th>\n",
       "      <th>order_month</th>\n",
       "      <th>n_customer</th>\n",
       "      <th>period_number</th>\n",
       "    </tr>\n",
       "  </thead>\n",
       "  <tbody>\n",
       "    <tr>\n",
       "      <th>0</th>\n",
       "      <td>2010-12</td>\n",
       "      <td>2010-12</td>\n",
       "      <td>948</td>\n",
       "      <td>0</td>\n",
       "    </tr>\n",
       "    <tr>\n",
       "      <th>1</th>\n",
       "      <td>2010-12</td>\n",
       "      <td>2011-01</td>\n",
       "      <td>362</td>\n",
       "      <td>1</td>\n",
       "    </tr>\n",
       "    <tr>\n",
       "      <th>2</th>\n",
       "      <td>2010-12</td>\n",
       "      <td>2011-02</td>\n",
       "      <td>317</td>\n",
       "      <td>2</td>\n",
       "    </tr>\n",
       "    <tr>\n",
       "      <th>3</th>\n",
       "      <td>2010-12</td>\n",
       "      <td>2011-03</td>\n",
       "      <td>367</td>\n",
       "      <td>3</td>\n",
       "    </tr>\n",
       "    <tr>\n",
       "      <th>4</th>\n",
       "      <td>2010-12</td>\n",
       "      <td>2011-04</td>\n",
       "      <td>341</td>\n",
       "      <td>4</td>\n",
       "    </tr>\n",
       "  </tbody>\n",
       "</table>\n",
       "</div>"
      ],
      "text/plain": [
       "    cohort order_month  n_customer  period_number\n",
       "0  2010-12     2010-12         948              0\n",
       "1  2010-12     2011-01         362              1\n",
       "2  2010-12     2011-02         317              2\n",
       "3  2010-12     2011-03         367              3\n",
       "4  2010-12     2011-04         341              4"
      ]
     },
     "execution_count": 15,
     "metadata": {},
     "output_type": "execute_result"
    }
   ],
   "source": [
    "from operator import attrgetter\n",
    "\n",
    "# Aggregate by cohort and order_month to find out unique number of CustomerID\n",
    "new_df_cohort = new_df.pivot_table(index=['cohort', 'order_month'],\n",
    "                                   values='CustomerID', aggfunc=pd.Series.nunique).reset_index()\n",
    "new_df_cohort.rename(columns={'CustomerID':'n_customer'}, inplace=True)\n",
    "\n",
    "# Find the diff between two period of time (order_month and cohort)\n",
    "new_df_cohort['period_number'] = (new_df_cohort['order_month'] - new_df_cohort['cohort']).apply(attrgetter('n'))\n",
    "new_df_cohort.head()"
   ]
  },
  {
   "cell_type": "code",
   "execution_count": 16,
   "metadata": {},
   "outputs": [
    {
     "data": {
      "text/html": [
       "<div>\n",
       "<style scoped>\n",
       "    .dataframe tbody tr th:only-of-type {\n",
       "        vertical-align: middle;\n",
       "    }\n",
       "\n",
       "    .dataframe tbody tr th {\n",
       "        vertical-align: top;\n",
       "    }\n",
       "\n",
       "    .dataframe thead th {\n",
       "        text-align: right;\n",
       "    }\n",
       "</style>\n",
       "<table border=\"1\" class=\"dataframe\">\n",
       "  <thead>\n",
       "    <tr style=\"text-align: right;\">\n",
       "      <th>period_number</th>\n",
       "      <th>0</th>\n",
       "      <th>1</th>\n",
       "      <th>2</th>\n",
       "      <th>3</th>\n",
       "      <th>4</th>\n",
       "      <th>5</th>\n",
       "      <th>6</th>\n",
       "      <th>7</th>\n",
       "      <th>8</th>\n",
       "      <th>9</th>\n",
       "      <th>10</th>\n",
       "      <th>11</th>\n",
       "      <th>12</th>\n",
       "    </tr>\n",
       "    <tr>\n",
       "      <th>cohort</th>\n",
       "      <th></th>\n",
       "      <th></th>\n",
       "      <th></th>\n",
       "      <th></th>\n",
       "      <th></th>\n",
       "      <th></th>\n",
       "      <th></th>\n",
       "      <th></th>\n",
       "      <th></th>\n",
       "      <th></th>\n",
       "      <th></th>\n",
       "      <th></th>\n",
       "      <th></th>\n",
       "    </tr>\n",
       "  </thead>\n",
       "  <tbody>\n",
       "    <tr>\n",
       "      <th>2010-12</th>\n",
       "      <td>1.0</td>\n",
       "      <td>0.381857</td>\n",
       "      <td>0.334388</td>\n",
       "      <td>0.387131</td>\n",
       "      <td>0.359705</td>\n",
       "      <td>0.396624</td>\n",
       "      <td>0.379747</td>\n",
       "      <td>0.354430</td>\n",
       "      <td>0.354430</td>\n",
       "      <td>0.394515</td>\n",
       "      <td>0.373418</td>\n",
       "      <td>0.500000</td>\n",
       "      <td>0.274262</td>\n",
       "    </tr>\n",
       "    <tr>\n",
       "      <th>2011-01</th>\n",
       "      <td>1.0</td>\n",
       "      <td>0.239905</td>\n",
       "      <td>0.282660</td>\n",
       "      <td>0.242280</td>\n",
       "      <td>0.327791</td>\n",
       "      <td>0.299287</td>\n",
       "      <td>0.261283</td>\n",
       "      <td>0.256532</td>\n",
       "      <td>0.311164</td>\n",
       "      <td>0.346793</td>\n",
       "      <td>0.368171</td>\n",
       "      <td>0.149644</td>\n",
       "      <td>NaN</td>\n",
       "    </tr>\n",
       "    <tr>\n",
       "      <th>2011-02</th>\n",
       "      <td>1.0</td>\n",
       "      <td>0.247368</td>\n",
       "      <td>0.192105</td>\n",
       "      <td>0.278947</td>\n",
       "      <td>0.268421</td>\n",
       "      <td>0.247368</td>\n",
       "      <td>0.255263</td>\n",
       "      <td>0.281579</td>\n",
       "      <td>0.257895</td>\n",
       "      <td>0.313158</td>\n",
       "      <td>0.092105</td>\n",
       "      <td>NaN</td>\n",
       "      <td>NaN</td>\n",
       "    </tr>\n",
       "    <tr>\n",
       "      <th>2011-03</th>\n",
       "      <td>1.0</td>\n",
       "      <td>0.190909</td>\n",
       "      <td>0.254545</td>\n",
       "      <td>0.218182</td>\n",
       "      <td>0.231818</td>\n",
       "      <td>0.177273</td>\n",
       "      <td>0.263636</td>\n",
       "      <td>0.238636</td>\n",
       "      <td>0.288636</td>\n",
       "      <td>0.088636</td>\n",
       "      <td>NaN</td>\n",
       "      <td>NaN</td>\n",
       "      <td>NaN</td>\n",
       "    </tr>\n",
       "    <tr>\n",
       "      <th>2011-04</th>\n",
       "      <td>1.0</td>\n",
       "      <td>0.227425</td>\n",
       "      <td>0.220736</td>\n",
       "      <td>0.210702</td>\n",
       "      <td>0.207358</td>\n",
       "      <td>0.237458</td>\n",
       "      <td>0.230769</td>\n",
       "      <td>0.260870</td>\n",
       "      <td>0.083612</td>\n",
       "      <td>NaN</td>\n",
       "      <td>NaN</td>\n",
       "      <td>NaN</td>\n",
       "      <td>NaN</td>\n",
       "    </tr>\n",
       "    <tr>\n",
       "      <th>2011-05</th>\n",
       "      <td>1.0</td>\n",
       "      <td>0.236559</td>\n",
       "      <td>0.172043</td>\n",
       "      <td>0.172043</td>\n",
       "      <td>0.215054</td>\n",
       "      <td>0.243728</td>\n",
       "      <td>0.265233</td>\n",
       "      <td>0.103943</td>\n",
       "      <td>NaN</td>\n",
       "      <td>NaN</td>\n",
       "      <td>NaN</td>\n",
       "      <td>NaN</td>\n",
       "      <td>NaN</td>\n",
       "    </tr>\n",
       "    <tr>\n",
       "      <th>2011-06</th>\n",
       "      <td>1.0</td>\n",
       "      <td>0.208511</td>\n",
       "      <td>0.187234</td>\n",
       "      <td>0.272340</td>\n",
       "      <td>0.246809</td>\n",
       "      <td>0.336170</td>\n",
       "      <td>0.102128</td>\n",
       "      <td>NaN</td>\n",
       "      <td>NaN</td>\n",
       "      <td>NaN</td>\n",
       "      <td>NaN</td>\n",
       "      <td>NaN</td>\n",
       "      <td>NaN</td>\n",
       "    </tr>\n",
       "    <tr>\n",
       "      <th>2011-07</th>\n",
       "      <td>1.0</td>\n",
       "      <td>0.209424</td>\n",
       "      <td>0.204188</td>\n",
       "      <td>0.230366</td>\n",
       "      <td>0.272251</td>\n",
       "      <td>0.115183</td>\n",
       "      <td>NaN</td>\n",
       "      <td>NaN</td>\n",
       "      <td>NaN</td>\n",
       "      <td>NaN</td>\n",
       "      <td>NaN</td>\n",
       "      <td>NaN</td>\n",
       "      <td>NaN</td>\n",
       "    </tr>\n",
       "    <tr>\n",
       "      <th>2011-08</th>\n",
       "      <td>1.0</td>\n",
       "      <td>0.251497</td>\n",
       "      <td>0.251497</td>\n",
       "      <td>0.251497</td>\n",
       "      <td>0.137725</td>\n",
       "      <td>NaN</td>\n",
       "      <td>NaN</td>\n",
       "      <td>NaN</td>\n",
       "      <td>NaN</td>\n",
       "      <td>NaN</td>\n",
       "      <td>NaN</td>\n",
       "      <td>NaN</td>\n",
       "      <td>NaN</td>\n",
       "    </tr>\n",
       "    <tr>\n",
       "      <th>2011-09</th>\n",
       "      <td>1.0</td>\n",
       "      <td>0.298658</td>\n",
       "      <td>0.325503</td>\n",
       "      <td>0.120805</td>\n",
       "      <td>NaN</td>\n",
       "      <td>NaN</td>\n",
       "      <td>NaN</td>\n",
       "      <td>NaN</td>\n",
       "      <td>NaN</td>\n",
       "      <td>NaN</td>\n",
       "      <td>NaN</td>\n",
       "      <td>NaN</td>\n",
       "      <td>NaN</td>\n",
       "    </tr>\n",
       "    <tr>\n",
       "      <th>2011-10</th>\n",
       "      <td>1.0</td>\n",
       "      <td>0.264205</td>\n",
       "      <td>0.130682</td>\n",
       "      <td>NaN</td>\n",
       "      <td>NaN</td>\n",
       "      <td>NaN</td>\n",
       "      <td>NaN</td>\n",
       "      <td>NaN</td>\n",
       "      <td>NaN</td>\n",
       "      <td>NaN</td>\n",
       "      <td>NaN</td>\n",
       "      <td>NaN</td>\n",
       "      <td>NaN</td>\n",
       "    </tr>\n",
       "    <tr>\n",
       "      <th>2011-11</th>\n",
       "      <td>1.0</td>\n",
       "      <td>0.133956</td>\n",
       "      <td>NaN</td>\n",
       "      <td>NaN</td>\n",
       "      <td>NaN</td>\n",
       "      <td>NaN</td>\n",
       "      <td>NaN</td>\n",
       "      <td>NaN</td>\n",
       "      <td>NaN</td>\n",
       "      <td>NaN</td>\n",
       "      <td>NaN</td>\n",
       "      <td>NaN</td>\n",
       "      <td>NaN</td>\n",
       "    </tr>\n",
       "    <tr>\n",
       "      <th>2011-12</th>\n",
       "      <td>1.0</td>\n",
       "      <td>NaN</td>\n",
       "      <td>NaN</td>\n",
       "      <td>NaN</td>\n",
       "      <td>NaN</td>\n",
       "      <td>NaN</td>\n",
       "      <td>NaN</td>\n",
       "      <td>NaN</td>\n",
       "      <td>NaN</td>\n",
       "      <td>NaN</td>\n",
       "      <td>NaN</td>\n",
       "      <td>NaN</td>\n",
       "      <td>NaN</td>\n",
       "    </tr>\n",
       "  </tbody>\n",
       "</table>\n",
       "</div>"
      ],
      "text/plain": [
       "period_number   0         1         2         3         4         5   \\\n",
       "cohort                                                                 \n",
       "2010-12        1.0  0.381857  0.334388  0.387131  0.359705  0.396624   \n",
       "2011-01        1.0  0.239905  0.282660  0.242280  0.327791  0.299287   \n",
       "2011-02        1.0  0.247368  0.192105  0.278947  0.268421  0.247368   \n",
       "2011-03        1.0  0.190909  0.254545  0.218182  0.231818  0.177273   \n",
       "2011-04        1.0  0.227425  0.220736  0.210702  0.207358  0.237458   \n",
       "2011-05        1.0  0.236559  0.172043  0.172043  0.215054  0.243728   \n",
       "2011-06        1.0  0.208511  0.187234  0.272340  0.246809  0.336170   \n",
       "2011-07        1.0  0.209424  0.204188  0.230366  0.272251  0.115183   \n",
       "2011-08        1.0  0.251497  0.251497  0.251497  0.137725       NaN   \n",
       "2011-09        1.0  0.298658  0.325503  0.120805       NaN       NaN   \n",
       "2011-10        1.0  0.264205  0.130682       NaN       NaN       NaN   \n",
       "2011-11        1.0  0.133956       NaN       NaN       NaN       NaN   \n",
       "2011-12        1.0       NaN       NaN       NaN       NaN       NaN   \n",
       "\n",
       "period_number        6         7         8         9         10        11  \\\n",
       "cohort                                                                      \n",
       "2010-12        0.379747  0.354430  0.354430  0.394515  0.373418  0.500000   \n",
       "2011-01        0.261283  0.256532  0.311164  0.346793  0.368171  0.149644   \n",
       "2011-02        0.255263  0.281579  0.257895  0.313158  0.092105       NaN   \n",
       "2011-03        0.263636  0.238636  0.288636  0.088636       NaN       NaN   \n",
       "2011-04        0.230769  0.260870  0.083612       NaN       NaN       NaN   \n",
       "2011-05        0.265233  0.103943       NaN       NaN       NaN       NaN   \n",
       "2011-06        0.102128       NaN       NaN       NaN       NaN       NaN   \n",
       "2011-07             NaN       NaN       NaN       NaN       NaN       NaN   \n",
       "2011-08             NaN       NaN       NaN       NaN       NaN       NaN   \n",
       "2011-09             NaN       NaN       NaN       NaN       NaN       NaN   \n",
       "2011-10             NaN       NaN       NaN       NaN       NaN       NaN   \n",
       "2011-11             NaN       NaN       NaN       NaN       NaN       NaN   \n",
       "2011-12             NaN       NaN       NaN       NaN       NaN       NaN   \n",
       "\n",
       "period_number        12  \n",
       "cohort                   \n",
       "2010-12        0.274262  \n",
       "2011-01             NaN  \n",
       "2011-02             NaN  \n",
       "2011-03             NaN  \n",
       "2011-04             NaN  \n",
       "2011-05             NaN  \n",
       "2011-06             NaN  \n",
       "2011-07             NaN  \n",
       "2011-08             NaN  \n",
       "2011-09             NaN  \n",
       "2011-10             NaN  \n",
       "2011-11             NaN  \n",
       "2011-12             NaN  "
      ]
     },
     "execution_count": 16,
     "metadata": {},
     "output_type": "execute_result"
    }
   ],
   "source": [
    "pivot_cohort = new_df_cohort.pivot_table(index='cohort', columns='period_number',\n",
    "                                         values='n_customer')\n",
    "\n",
    "cohort_size = pivot_cohort.iloc[:,0]\n",
    "new_pivot_cohort = pivot_cohort.divide(cohort_size, axis=0)\n",
    "new_pivot_cohort"
   ]
  },
  {
   "cell_type": "code",
   "execution_count": 17,
   "metadata": {},
   "outputs": [
    {
     "data": {
      "image/png": "[encoded data removed]",
      "text/plain": [
       "<Figure size 864x576 with 3 Axes>"
      ]
     },
     "metadata": {},
     "output_type": "display_data"
    }
   ],
   "source": [
    "with sns.axes_style('white'):\n",
    "    fig, ax = plt.subplots(1, 2, figsize=(12,8), sharey=True, gridspec_kw={'width_ratios': [1, 11]})\n",
    "    \n",
    "    # retention matrix\n",
    "    sns.heatmap(new_pivot_cohort, annot=True, fmt='.0%', cmap='viridis', ax=ax[1])\n",
    "    ax[1].set_title('Monthly Cohort: User Retention', loc='left')\n",
    "    ax[1].set(xlabel='# of Period', ylabel='')\n",
    "    \n",
    "    # cohort size\n",
    "    cohort_size = pd.DataFrame(cohort_size).rename(columns={0:'cohort_size'})\n",
    "    white_cmap = mcolors.ListedColormap(['white'])\n",
    "    sns.heatmap(cohort_size, annot=True, fmt='g', cbar=False, cmap=white_cmap, ax=ax[0])\n",
    "    \n",
    "    fig.tight_layout()"
   ]
  },
  {
   "cell_type": "markdown",
   "metadata": {},
   "source": [
    "* Rata-rata user retention hanya berada pada angka sekitar 20% hingga 30%\n",
    "* User retention yang tergabung dalam bulan pertama merupakan yang paling tinggi dibandingkan dengan bulan kedua dan seterusnya\n",
    "* Selain itu, user retention pada bulan pertama setelah hampir setahun mengalami peningkatan hingga 50%"
   ]
  },
  {
   "cell_type": "markdown",
   "metadata": {},
   "source": [
    "### Prediction on Sales"
   ]
  },
  {
   "cell_type": "code",
   "execution_count": 18,
   "metadata": {},
   "outputs": [
    {
     "data": {
      "text/plain": [
       "count                  406829\n",
       "unique                  20460\n",
       "top       2011-11-14 15:27:00\n",
       "freq                      543\n",
       "first     2010-12-01 08:26:00\n",
       "last      2011-12-09 12:50:00\n",
       "Name: InvoiceDate, dtype: object"
      ]
     },
     "execution_count": 18,
     "metadata": {},
     "output_type": "execute_result"
    }
   ],
   "source": [
    "df['InvoiceDate'].describe()"
   ]
  },
  {
   "cell_type": "code",
   "execution_count": null,
   "metadata": {},
   "outputs": [],
   "source": []
  }
 ],
 "metadata": {
  "kernelspec": {
   "display_name": "Python 3",
   "language": "python",
   "name": "python3"
  },
  "language_info": {
   "codemirror_mode": {
    "name": "ipython",
    "version": 3
   },
   "file_extension": ".py",
   "mimetype": "text/x-python",
   "name": "python",
   "nbconvert_exporter": "python",
   "pygments_lexer": "ipython3",
   "version": "3.8.3"
  }
 },
 "nbformat": 4,
 "nbformat_minor": 4
}
